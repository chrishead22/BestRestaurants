{
 "cells": [
  {
   "cell_type": "markdown",
   "metadata": {},
   "source": [
    "<font size=\"4\">  \n",
    "    ML 5632 Final Project: NY Times Best Restaurants of 2024\n",
    "</font> \n",
    "<font size=\"3\">  \n",
    "    <ul>\n",
    "        <li>Dataset is taken from <a href=\"https://www.kaggle.com/datasets/rummagelabs/nytimes-best-restaurants-2024\" target=\"_blank\">Kaggle</a></li>\n",
    "        <li>The goal of this project is to accurately classify top restaurant descriptions into predefined categories</li>\n",
    "    </ul>\n",
    "</font> "
   ]
  },
  {
   "cell_type": "code",
   "execution_count": 682,
   "metadata": {},
   "outputs": [],
   "source": [
    "# import libraries\n",
    "import pandas as pd\n",
    "pd.options.mode.chained_assignment = None\n",
    "import matplotlib.pyplot as plt\n",
    "import seaborn as sns\n",
    "import numpy as np\n",
    "sns.set()\n",
    "from sklearn.decomposition import NMF\n",
    "from sklearn.tree import DecisionTreeClassifier\n",
    "from sklearn.feature_extraction.text import TfidfVectorizer\n",
    "from sklearn.model_selection import train_test_split\n",
    "from sklearn.metrics import accuracy_score, confusion_matrix, classification_report\n",
    "import plotly.graph_objs as go\n",
    "from plotly.offline import iplot\n",
    "%matplotlib inline\n",
    "\n",
    "pd.set_option('display.max_columns', None)"
   ]
  },
  {
   "cell_type": "code",
   "execution_count": 683,
   "metadata": {},
   "outputs": [
    {
     "data": {
      "text/html": [
       "<div>\n",
       "<style scoped>\n",
       "    .dataframe tbody tr th:only-of-type {\n",
       "        vertical-align: middle;\n",
       "    }\n",
       "\n",
       "    .dataframe tbody tr th {\n",
       "        vertical-align: top;\n",
       "    }\n",
       "\n",
       "    .dataframe thead th {\n",
       "        text-align: right;\n",
       "    }\n",
       "</style>\n",
       "<table border=\"1\" class=\"dataframe\">\n",
       "  <thead>\n",
       "    <tr style=\"text-align: right;\">\n",
       "      <th></th>\n",
       "      <th>restaurant_name</th>\n",
       "      <th>city</th>\n",
       "      <th>state</th>\n",
       "      <th>address</th>\n",
       "      <th>description</th>\n",
       "      <th>cuisine_type</th>\n",
       "      <th>head_chef_or_lead</th>\n",
       "      <th>website</th>\n",
       "    </tr>\n",
       "  </thead>\n",
       "  <tbody>\n",
       "    <tr>\n",
       "      <th>0</th>\n",
       "      <td>Mr. Baan’s Bar and Mookata</td>\n",
       "      <td>Phoenix</td>\n",
       "      <td>AZ</td>\n",
       "      <td>218 E Portland St #B, Phoenix, AZ 85004</td>\n",
       "      <td>Mr. Baan’s Bar and Mookata offers a vibrant at...</td>\n",
       "      <td>Thai</td>\n",
       "      <td>Alex Martin, Yotaka \"Sunny\" Martin</td>\n",
       "      <td>https://www.mrbaans.com/</td>\n",
       "    </tr>\n",
       "    <tr>\n",
       "      <th>1</th>\n",
       "      <td>Fikscue</td>\n",
       "      <td>Alameda</td>\n",
       "      <td>CA</td>\n",
       "      <td>1708 Park St Ste 120, Alameda, CA 94501</td>\n",
       "      <td>Fikscue is a vibrant Indonesian-Texan barbecue...</td>\n",
       "      <td>Indo-Tex</td>\n",
       "      <td>Fik Saleh, Reka Saleh</td>\n",
       "      <td>https://www.fikscue.com/</td>\n",
       "    </tr>\n",
       "    <tr>\n",
       "      <th>2</th>\n",
       "      <td>Azizam</td>\n",
       "      <td>Los Angeles</td>\n",
       "      <td>CA</td>\n",
       "      <td>2943 W Sunset Blvd, Los Angeles, CA 90026</td>\n",
       "      <td>Azizam is a cozy Persian eatery nestled in Sil...</td>\n",
       "      <td>Persian</td>\n",
       "      <td>Cody Ma</td>\n",
       "      <td>https://www.azizamla.com/</td>\n",
       "    </tr>\n",
       "    <tr>\n",
       "      <th>3</th>\n",
       "      <td>Camélia</td>\n",
       "      <td>Los Angeles</td>\n",
       "      <td>CA</td>\n",
       "      <td>1850 Industrial St, Los Angeles, CA 90021</td>\n",
       "      <td>Camélia is a charming French-Japanese bistro i...</td>\n",
       "      <td>French-Japanese</td>\n",
       "      <td>Charles Namba and Courtney Kaplan</td>\n",
       "      <td>https://cameliadtla.com/</td>\n",
       "    </tr>\n",
       "    <tr>\n",
       "      <th>4</th>\n",
       "      <td>Four Kings</td>\n",
       "      <td>San Francisco</td>\n",
       "      <td>CA</td>\n",
       "      <td>710 Commercial St, San Francisco, CA 94108</td>\n",
       "      <td>Four Kings offers a cozy bar ambiance where gu...</td>\n",
       "      <td>Cantonese</td>\n",
       "      <td>Franky Ho and Mike Long</td>\n",
       "      <td>https://www.itsfourkings.com/</td>\n",
       "    </tr>\n",
       "  </tbody>\n",
       "</table>\n",
       "</div>"
      ],
      "text/plain": [
       "              restaurant_name           city state  \\\n",
       "0  Mr. Baan’s Bar and Mookata        Phoenix    AZ   \n",
       "1                     Fikscue        Alameda    CA   \n",
       "2                      Azizam    Los Angeles    CA   \n",
       "3                     Camélia    Los Angeles    CA   \n",
       "4                  Four Kings  San Francisco    CA   \n",
       "\n",
       "                                      address  \\\n",
       "0     218 E Portland St #B, Phoenix, AZ 85004   \n",
       "1     1708 Park St Ste 120, Alameda, CA 94501   \n",
       "2   2943 W Sunset Blvd, Los Angeles, CA 90026   \n",
       "3   1850 Industrial St, Los Angeles, CA 90021   \n",
       "4  710 Commercial St, San Francisco, CA 94108   \n",
       "\n",
       "                                         description     cuisine_type  \\\n",
       "0  Mr. Baan’s Bar and Mookata offers a vibrant at...             Thai   \n",
       "1  Fikscue is a vibrant Indonesian-Texan barbecue...         Indo-Tex   \n",
       "2  Azizam is a cozy Persian eatery nestled in Sil...          Persian   \n",
       "3  Camélia is a charming French-Japanese bistro i...  French-Japanese   \n",
       "4  Four Kings offers a cozy bar ambiance where gu...        Cantonese   \n",
       "\n",
       "                    head_chef_or_lead                        website  \n",
       "0  Alex Martin, Yotaka \"Sunny\" Martin       https://www.mrbaans.com/  \n",
       "1               Fik Saleh, Reka Saleh       https://www.fikscue.com/  \n",
       "2                             Cody Ma      https://www.azizamla.com/  \n",
       "3   Charles Namba and Courtney Kaplan       https://cameliadtla.com/  \n",
       "4             Franky Ho and Mike Long  https://www.itsfourkings.com/  "
      ]
     },
     "execution_count": 683,
     "metadata": {},
     "output_type": "execute_result"
    }
   ],
   "source": [
    "# connect to Kaggle dataset locally and display contents\n",
    "df = pd.read_csv('nytimes_best_restaurants_2024.csv')\n",
    "df.head()"
   ]
  },
  {
   "cell_type": "markdown",
   "metadata": {},
   "source": [
    "I am creating this model to see if we can find any correlations between the different factors. I will try to find a correlation between the description and cuisine type. I hypothesize there is no correlation. I will transform the cuisine type to categories to hopefully have better results for the NMF unsupervised model."
   ]
  },
  {
   "cell_type": "markdown",
   "metadata": {},
   "source": [
    "EDA\n",
    "\n",
    "<ul>\n",
    "    <li>\n",
    "        Check for any blanks as well as duplicate entries\n",
    "    </li>\n",
    "    <li>\n",
    "        Drop the website feature as this is not necessary\n",
    "    </li>\n",
    "    <li>\n",
    "        rename some features for easier readability\n",
    "    </li>\n",
    "    <li>\n",
    "        Reclassify the cuisine type to each region\n",
    "    </li>\n",
    "</ul>"
   ]
  },
  {
   "cell_type": "code",
   "execution_count": 684,
   "metadata": {},
   "outputs": [
    {
     "name": "stdout",
     "output_type": "stream",
     "text": [
      "Category\n",
      "North American    24\n",
      "Asian             13\n",
      "European          10\n",
      "Middle Eastern     3\n",
      "Name: count, dtype: int64\n",
      "\n",
      "Total Description Duplicates Found:  0\n",
      "\n",
      "Total Restaurant Name Duplicates Found:  0\n"
     ]
    }
   ],
   "source": [
    "df = df.rename(columns={\"restaurant_name\": \"Restaurant\", \"cuisine_type\": \"Category\", \"description\": \"Description\"})\n",
    "\n",
    "# remove any potential blank Text\n",
    "blank_name_index = df[(df.Restaurant == ' ')].index\n",
    "df = df.drop(blank_name_index)\n",
    "\n",
    "blank_description_index = df[(df.Description == ' ')].index\n",
    "df = df.drop(blank_description_index)\n",
    "\n",
    "# reclassify Category\n",
    "df['Category'] = df['Category'].replace({'Thai': 'Asian', \n",
    "                             'Indo-Tex': 'North American',\n",
    "                             'Persian': 'Middle Eastern', \n",
    "                             'French-Japanese': 'European',\n",
    "                             'Cantonese': 'Asian',\n",
    "                             'Italian, New American': 'North American',\n",
    "                             'Vietnamese': 'Asian',\n",
    "                             'Chinese, Cantonese': 'Asian',\n",
    "                             'New American': 'North American',\n",
    "                             'Italian, Pizza': 'European',\n",
    "                             'Indian': 'Asian',\n",
    "                             'French': 'European',\n",
    "                             'Scottish': 'European',\n",
    "                             'Steakhouse': 'North American',\n",
    "                             'Southern': 'North American',\n",
    "                             'Mexican': 'North American',\n",
    "                             'Korean': 'Asian',\n",
    "                             'Levantine': 'European',\n",
    "                             'Hmong': 'Asian',\n",
    "                             'Oyster, New American': 'North American',\n",
    "                             'Soul Food, Southern': 'North American',\n",
    "                             'Soul Food': 'North American',\n",
    "                             'Guamanian': 'Asian',\n",
    "                             'Mediterranean': 'European',\n",
    "                             'Bistro': 'European',\n",
    "                             'Thai, Chinese': 'Asian', \n",
    "                             'French, New American': 'European',\n",
    "                             'Polish': 'European',\n",
    "                             'Nordic Seafood': 'European',\n",
    "                             'Barbecue': 'North American',\n",
    "                             'Seafood': 'North American',\n",
    "                             'Raw Bar': 'North American',\n",
    "                             'Laotian': 'Asian',\n",
    "                             'Kurdish, Turkish': 'Middle Eastern'\n",
    "                             })\n",
    "\n",
    "# print unique cuisine_type\n",
    "print(df['Category'].value_counts())\n",
    "\n",
    "# drop website feature\n",
    "df = df.drop(columns=['website'])\n",
    "\n",
    "# remove duplicate description\n",
    "df = df.drop_duplicates(subset=['Description'])\n",
    "print('\\nTotal Description Duplicates Found: ', df.duplicated(subset=['Description']).sum())\n",
    "\n",
    "# remove duplicate restaurant_name\n",
    "df = df.drop_duplicates(subset=['Restaurant'])\n",
    "print('\\nTotal Restaurant Name Duplicates Found: ', df.duplicated(subset=['Restaurant']).sum())\n",
    "\n",
    "# visually inspect cleaned data for oddities\n",
    "#with pd.option_context('display.max_rows', None, 'display.max_columns', None):  # more options can be specified also\n",
    "#    print(df)"
   ]
  },
  {
   "cell_type": "code",
   "execution_count": 685,
   "metadata": {},
   "outputs": [
    {
     "data": {
      "image/png": "[encoded data removed]",
      "text/plain": [
       "<Figure size 640x480 with 1 Axes>"
      ]
     },
     "metadata": {},
     "output_type": "display_data"
    }
   ],
   "source": [
    "value_counts = df['Category'].value_counts()\n",
    "plt.bar(value_counts.index, value_counts)\n",
    "plt.title('Histogram of Category')\n",
    "plt.xticks(rotation=90, ha='center')\n",
    "plt.xlabel('Category')\n",
    "plt.ylabel('Count')\n",
    "\n",
    "for i, count in enumerate(value_counts):\n",
    "    plt.text(i, count, str(count), ha='center', va='bottom')\n",
    "plt.show()"
   ]
  },
  {
   "cell_type": "markdown",
   "metadata": {},
   "source": [
    "Next we'll do some word processing to separate out the words from the description column. We only care about the words and not any symbols or punctuation. We will also remove no descriptive or boring words to show the most used words in the description box."
   ]
  },
  {
   "cell_type": "code",
   "execution_count": 686,
   "metadata": {},
   "outputs": [
    {
     "data": {
      "application/vnd.plotly.v1+json": {
       "config": {
        "linkText": "Export to plot.ly",
        "plotlyServerURL": "https://plot.ly",
        "showLink": false
       },
       "data": [
        {
         "type": "bar",
         "x": [
          "atmosphere",
          "dining",
          "experience",
          "vibrant",
          "offers",
          "dishes",
          "cuisine",
          "inviting",
          "flavors",
          "unique",
          "warm",
          "casual",
          "traditional",
          "cozy",
          "perfect",
          "culinary",
          "making",
          "seafood",
          "contemporary",
          "authentic"
         ],
         "y": [
          46,
          28,
          27,
          24,
          22,
          22,
          20,
          19,
          18,
          16,
          14,
          11,
          11,
          11,
          11,
          10,
          9,
          9,
          8,
          8
         ]
        }
       ],
       "layout": {
        "template": {
         "data": {
          "bar": [
           {
            "error_x": {
             "color": "#2a3f5f"
            },
            "error_y": {
             "color": "#2a3f5f"
            },
            "marker": {
             "line": {
              "color": "#E5ECF6",
              "width": 0.5
             },
             "pattern": {
              "fillmode": "overlay",
              "size": 10,
              "solidity": 0.2
             }
            },
            "type": "bar"
           }
          ],
          "barpolar": [
           {
            "marker": {
             "line": {
              "color": "#E5ECF6",
              "width": 0.5
             },
             "pattern": {
              "fillmode": "overlay",
              "size": 10,
              "solidity": 0.2
             }
            },
            "type": "barpolar"
           }
          ],
          "carpet": [
           {
            "aaxis": {
             "endlinecolor": "#2a3f5f",
             "gridcolor": "white",
             "linecolor": "white",
             "minorgridcolor": "white",
             "startlinecolor": "#2a3f5f"
            },
            "baxis": {
             "endlinecolor": "#2a3f5f",
             "gridcolor": "white",
             "linecolor": "white",
             "minorgridcolor": "white",
             "startlinecolor": "#2a3f5f"
            },
            "type": "carpet"
           }
          ],
          "choropleth": [
           {
            "colorbar": {
             "outlinewidth": 0,
             "ticks": ""
            },
            "type": "choropleth"
           }
          ],
          "contour": [
           {
            "colorbar": {
             "outlinewidth": 0,
             "ticks": ""
            },
            "colorscale": [
             [
              0,
              "#0d0887"
             ],
             [
              0.1111111111111111,
              "#46039f"
             ],
             [
              0.2222222222222222,
              "#7201a8"
             ],
             [
              0.3333333333333333,
              "#9c179e"
             ],
             [
              0.4444444444444444,
              "#bd3786"
             ],
             [
              0.5555555555555556,
              "#d8576b"
             ],
             [
              0.6666666666666666,
              "#ed7953"
             ],
             [
              0.7777777777777778,
              "#fb9f3a"
             ],
             [
              0.8888888888888888,
              "#fdca26"
             ],
             [
              1,
              "#f0f921"
             ]
            ],
            "type": "contour"
           }
          ],
          "contourcarpet": [
           {
            "colorbar": {
             "outlinewidth": 0,
             "ticks": ""
            },
            "type": "contourcarpet"
           }
          ],
          "heatmap": [
           {
            "colorbar": {
             "outlinewidth": 0,
             "ticks": ""
            },
            "colorscale": [
             [
              0,
              "#0d0887"
             ],
             [
              0.1111111111111111,
              "#46039f"
             ],
             [
              0.2222222222222222,
              "#7201a8"
             ],
             [
              0.3333333333333333,
              "#9c179e"
             ],
             [
              0.4444444444444444,
              "#bd3786"
             ],
             [
              0.5555555555555556,
              "#d8576b"
             ],
             [
              0.6666666666666666,
              "#ed7953"
             ],
             [
              0.7777777777777778,
              "#fb9f3a"
             ],
             [
              0.8888888888888888,
              "#fdca26"
             ],
             [
              1,
              "#f0f921"
             ]
            ],
            "type": "heatmap"
           }
          ],
          "heatmapgl": [
           {
            "colorbar": {
             "outlinewidth": 0,
             "ticks": ""
            },
            "colorscale": [
             [
              0,
              "#0d0887"
             ],
             [
              0.1111111111111111,
              "#46039f"
             ],
             [
              0.2222222222222222,
              "#7201a8"
             ],
             [
              0.3333333333333333,
              "#9c179e"
             ],
             [
              0.4444444444444444,
              "#bd3786"
             ],
             [
              0.5555555555555556,
              "#d8576b"
             ],
             [
              0.6666666666666666,
              "#ed7953"
             ],
             [
              0.7777777777777778,
              "#fb9f3a"
             ],
             [
              0.8888888888888888,
              "#fdca26"
             ],
             [
              1,
              "#f0f921"
             ]
            ],
            "type": "heatmapgl"
           }
          ],
          "histogram": [
           {
            "marker": {
             "pattern": {
              "fillmode": "overlay",
              "size": 10,
              "solidity": 0.2
             }
            },
            "type": "histogram"
           }
          ],
          "histogram2d": [
           {
            "colorbar": {
             "outlinewidth": 0,
             "ticks": ""
            },
            "colorscale": [
             [
              0,
              "#0d0887"
             ],
             [
              0.1111111111111111,
              "#46039f"
             ],
             [
              0.2222222222222222,
              "#7201a8"
             ],
             [
              0.3333333333333333,
              "#9c179e"
             ],
             [
              0.4444444444444444,
              "#bd3786"
             ],
             [
              0.5555555555555556,
              "#d8576b"
             ],
             [
              0.6666666666666666,
              "#ed7953"
             ],
             [
              0.7777777777777778,
              "#fb9f3a"
             ],
             [
              0.8888888888888888,
              "#fdca26"
             ],
             [
              1,
              "#f0f921"
             ]
            ],
            "type": "histogram2d"
           }
          ],
          "histogram2dcontour": [
           {
            "colorbar": {
             "outlinewidth": 0,
             "ticks": ""
            },
            "colorscale": [
             [
              0,
              "#0d0887"
             ],
             [
              0.1111111111111111,
              "#46039f"
             ],
             [
              0.2222222222222222,
              "#7201a8"
             ],
             [
              0.3333333333333333,
              "#9c179e"
             ],
             [
              0.4444444444444444,
              "#bd3786"
             ],
             [
              0.5555555555555556,
              "#d8576b"
             ],
             [
              0.6666666666666666,
              "#ed7953"
             ],
             [
              0.7777777777777778,
              "#fb9f3a"
             ],
             [
              0.8888888888888888,
              "#fdca26"
             ],
             [
              1,
              "#f0f921"
             ]
            ],
            "type": "histogram2dcontour"
           }
          ],
          "mesh3d": [
           {
            "colorbar": {
             "outlinewidth": 0,
             "ticks": ""
            },
            "type": "mesh3d"
           }
          ],
          "parcoords": [
           {
            "line": {
             "colorbar": {
              "outlinewidth": 0,
              "ticks": ""
             }
            },
            "type": "parcoords"
           }
          ],
          "pie": [
           {
            "automargin": true,
            "type": "pie"
           }
          ],
          "scatter": [
           {
            "fillpattern": {
             "fillmode": "overlay",
             "size": 10,
             "solidity": 0.2
            },
            "type": "scatter"
           }
          ],
          "scatter3d": [
           {
            "line": {
             "colorbar": {
              "outlinewidth": 0,
              "ticks": ""
             }
            },
            "marker": {
             "colorbar": {
              "outlinewidth": 0,
              "ticks": ""
             }
            },
            "type": "scatter3d"
           }
          ],
          "scattercarpet": [
           {
            "marker": {
             "colorbar": {
              "outlinewidth": 0,
              "ticks": ""
             }
            },
            "type": "scattercarpet"
           }
          ],
          "scattergeo": [
           {
            "marker": {
             "colorbar": {
              "outlinewidth": 0,
              "ticks": ""
             }
            },
            "type": "scattergeo"
           }
          ],
          "scattergl": [
           {
            "marker": {
             "colorbar": {
              "outlinewidth": 0,
              "ticks": ""
             }
            },
            "type": "scattergl"
           }
          ],
          "scattermapbox": [
           {
            "marker": {
             "colorbar": {
              "outlinewidth": 0,
              "ticks": ""
             }
            },
            "type": "scattermapbox"
           }
          ],
          "scatterpolar": [
           {
            "marker": {
             "colorbar": {
              "outlinewidth": 0,
              "ticks": ""
             }
            },
            "type": "scatterpolar"
           }
          ],
          "scatterpolargl": [
           {
            "marker": {
             "colorbar": {
              "outlinewidth": 0,
              "ticks": ""
             }
            },
            "type": "scatterpolargl"
           }
          ],
          "scatterternary": [
           {
            "marker": {
             "colorbar": {
              "outlinewidth": 0,
              "ticks": ""
             }
            },
            "type": "scatterternary"
           }
          ],
          "surface": [
           {
            "colorbar": {
             "outlinewidth": 0,
             "ticks": ""
            },
            "colorscale": [
             [
              0,
              "#0d0887"
             ],
             [
              0.1111111111111111,
              "#46039f"
             ],
             [
              0.2222222222222222,
              "#7201a8"
             ],
             [
              0.3333333333333333,
              "#9c179e"
             ],
             [
              0.4444444444444444,
              "#bd3786"
             ],
             [
              0.5555555555555556,
              "#d8576b"
             ],
             [
              0.6666666666666666,
              "#ed7953"
             ],
             [
              0.7777777777777778,
              "#fb9f3a"
             ],
             [
              0.8888888888888888,
              "#fdca26"
             ],
             [
              1,
              "#f0f921"
             ]
            ],
            "type": "surface"
           }
          ],
          "table": [
           {
            "cells": {
             "fill": {
              "color": "#EBF0F8"
             },
             "line": {
              "color": "white"
             }
            },
            "header": {
             "fill": {
              "color": "#C8D4E3"
             },
             "line": {
              "color": "white"
             }
            },
            "type": "table"
           }
          ]
         },
         "layout": {
          "annotationdefaults": {
           "arrowcolor": "#2a3f5f",
           "arrowhead": 0,
           "arrowwidth": 1
          },
          "autotypenumbers": "strict",
          "coloraxis": {
           "colorbar": {
            "outlinewidth": 0,
            "ticks": ""
           }
          },
          "colorscale": {
           "diverging": [
            [
             0,
             "#8e0152"
            ],
            [
             0.1,
             "#c51b7d"
            ],
            [
             0.2,
             "#de77ae"
            ],
            [
             0.3,
             "#f1b6da"
            ],
            [
             0.4,
             "#fde0ef"
            ],
            [
             0.5,
             "#f7f7f7"
            ],
            [
             0.6,
             "#e6f5d0"
            ],
            [
             0.7,
             "#b8e186"
            ],
            [
             0.8,
             "#7fbc41"
            ],
            [
             0.9,
             "#4d9221"
            ],
            [
             1,
             "#276419"
            ]
           ],
           "sequential": [
            [
             0,
             "#0d0887"
            ],
            [
             0.1111111111111111,
             "#46039f"
            ],
            [
             0.2222222222222222,
             "#7201a8"
            ],
            [
             0.3333333333333333,
             "#9c179e"
            ],
            [
             0.4444444444444444,
             "#bd3786"
            ],
            [
             0.5555555555555556,
             "#d8576b"
            ],
            [
             0.6666666666666666,
             "#ed7953"
            ],
            [
             0.7777777777777778,
             "#fb9f3a"
            ],
            [
             0.8888888888888888,
             "#fdca26"
            ],
            [
             1,
             "#f0f921"
            ]
           ],
           "sequentialminus": [
            [
             0,
             "#0d0887"
            ],
            [
             0.1111111111111111,
             "#46039f"
            ],
            [
             0.2222222222222222,
             "#7201a8"
            ],
            [
             0.3333333333333333,
             "#9c179e"
            ],
            [
             0.4444444444444444,
             "#bd3786"
            ],
            [
             0.5555555555555556,
             "#d8576b"
            ],
            [
             0.6666666666666666,
             "#ed7953"
            ],
            [
             0.7777777777777778,
             "#fb9f3a"
            ],
            [
             0.8888888888888888,
             "#fdca26"
            ],
            [
             1,
             "#f0f921"
            ]
           ]
          },
          "colorway": [
           "#636efa",
           "#EF553B",
           "#00cc96",
           "#ab63fa",
           "#FFA15A",
           "#19d3f3",
           "#FF6692",
           "#B6E880",
           "#FF97FF",
           "#FECB52"
          ],
          "font": {
           "color": "#2a3f5f"
          },
          "geo": {
           "bgcolor": "white",
           "lakecolor": "white",
           "landcolor": "#E5ECF6",
           "showlakes": true,
           "showland": true,
           "subunitcolor": "white"
          },
          "hoverlabel": {
           "align": "left"
          },
          "hovermode": "closest",
          "mapbox": {
           "style": "light"
          },
          "paper_bgcolor": "white",
          "plot_bgcolor": "#E5ECF6",
          "polar": {
           "angularaxis": {
            "gridcolor": "white",
            "linecolor": "white",
            "ticks": ""
           },
           "bgcolor": "#E5ECF6",
           "radialaxis": {
            "gridcolor": "white",
            "linecolor": "white",
            "ticks": ""
           }
          },
          "scene": {
           "xaxis": {
            "backgroundcolor": "#E5ECF6",
            "gridcolor": "white",
            "gridwidth": 2,
            "linecolor": "white",
            "showbackground": true,
            "ticks": "",
            "zerolinecolor": "white"
           },
           "yaxis": {
            "backgroundcolor": "#E5ECF6",
            "gridcolor": "white",
            "gridwidth": 2,
            "linecolor": "white",
            "showbackground": true,
            "ticks": "",
            "zerolinecolor": "white"
           },
           "zaxis": {
            "backgroundcolor": "#E5ECF6",
            "gridcolor": "white",
            "gridwidth": 2,
            "linecolor": "white",
            "showbackground": true,
            "ticks": "",
            "zerolinecolor": "white"
           }
          },
          "shapedefaults": {
           "line": {
            "color": "#2a3f5f"
           }
          },
          "ternary": {
           "aaxis": {
            "gridcolor": "white",
            "linecolor": "white",
            "ticks": ""
           },
           "baxis": {
            "gridcolor": "white",
            "linecolor": "white",
            "ticks": ""
           },
           "bgcolor": "#E5ECF6",
           "caxis": {
            "gridcolor": "white",
            "linecolor": "white",
            "ticks": ""
           }
          },
          "title": {
           "x": 0.05
          },
          "xaxis": {
           "automargin": true,
           "gridcolor": "white",
           "linecolor": "white",
           "ticks": "",
           "title": {
            "standoff": 15
           },
           "zerolinecolor": "white",
           "zerolinewidth": 2
          },
          "yaxis": {
           "automargin": true,
           "gridcolor": "white",
           "linecolor": "white",
           "ticks": "",
           "title": {
            "standoff": 15
           },
           "zerolinecolor": "white",
           "zerolinewidth": 2
          }
         }
        },
        "title": {
         "text": "Top 20 word frequencies"
        }
       }
      }
     },
     "metadata": {},
     "output_type": "display_data"
    }
   ],
   "source": [
    "# split words\n",
    "texts = df['Description'].str.split().explode()\n",
    "# remove symbols\n",
    "texts = texts.str.replace(r'[^a-zA-Z0-9\\s]', '', regex=True)\n",
    "# make all words lowercase so we get unique words\n",
    "texts = texts.str.lower()\n",
    "# remove spaces\n",
    "texts = texts.str.replace(' ', '', regex=True)\n",
    "\n",
    "# remove non descriptive and uninteresting words that are in the top 20\n",
    "stopwords = ['is', 'a', 'and', 'the', 'in', 'of', 'for', 'that', 'by', 'an', 'its', 'with', 'to', 'on', 'it', 'restaurant']\n",
    "cleanedText = []\n",
    "\n",
    "for text in texts:\n",
    "    if text in stopwords:\n",
    "        continue\n",
    "    cleanedText.append(text)\n",
    "\n",
    "df_cleaned_text = pd.DataFrame(cleanedText, columns=['values'])\n",
    "word_freq = df_cleaned_text['values'].value_counts()\n",
    "data = [go.Bar(x=word_freq.index[:20], y=word_freq.values[:20])]\n",
    "layout = go.Layout(title='Top 20 word frequencies')\n",
    "fig = go.Figure(data=data, layout=layout)\n",
    "iplot(fig)\n"
   ]
  },
  {
   "cell_type": "markdown",
   "metadata": {},
   "source": [
    "Next we'll use TF-IDF to vectorize the data to be used in a unsupervised NFM model. We will also assign a unique identifier to each category to convert strings to ints to make processing easier."
   ]
  },
  {
   "cell_type": "code",
   "execution_count": 687,
   "metadata": {},
   "outputs": [
    {
     "name": "stdout",
     "output_type": "stream",
     "text": [
      "\n",
      "Report:\n",
      "                precision    recall  f1-score   support\n",
      "\n",
      "         Asian       0.50      0.54      0.52        13\n",
      "North American       0.56      0.83      0.67        24\n",
      "Middle Eastern       0.00      0.00      0.00         3\n",
      "      European       0.00      0.00      0.00        10\n",
      "\n",
      "      accuracy                           0.54        50\n",
      "     macro avg       0.26      0.34      0.30        50\n",
      "  weighted avg       0.40      0.54      0.45        50\n",
      "\n"
     ]
    },
    {
     "name": "stderr",
     "output_type": "stream",
     "text": [
      "c:\\Users\\chris\\anaconda3\\Lib\\site-packages\\sklearn\\decomposition\\_nmf.py:1770: ConvergenceWarning:\n",
      "\n",
      "Maximum number of iterations 200 reached. Increase it to improve convergence.\n",
      "\n",
      "c:\\Users\\chris\\anaconda3\\Lib\\site-packages\\sklearn\\metrics\\_classification.py:1509: UndefinedMetricWarning:\n",
      "\n",
      "Precision is ill-defined and being set to 0.0 in labels with no predicted samples. Use `zero_division` parameter to control this behavior.\n",
      "\n",
      "c:\\Users\\chris\\anaconda3\\Lib\\site-packages\\sklearn\\metrics\\_classification.py:1509: UndefinedMetricWarning:\n",
      "\n",
      "Precision is ill-defined and being set to 0.0 in labels with no predicted samples. Use `zero_division` parameter to control this behavior.\n",
      "\n",
      "c:\\Users\\chris\\anaconda3\\Lib\\site-packages\\sklearn\\metrics\\_classification.py:1509: UndefinedMetricWarning:\n",
      "\n",
      "Precision is ill-defined and being set to 0.0 in labels with no predicted samples. Use `zero_division` parameter to control this behavior.\n",
      "\n"
     ]
    }
   ],
   "source": [
    "# unsupervised learning (NMF)\n",
    "n_components = 4\n",
    "vectorizer_train = TfidfVectorizer(sublinear_tf=True, max_features=5000, min_df=n_components, norm='l2', encoding='latin-1', ngram_range=(1, 2), stop_words='english')\n",
    "features_train = vectorizer_train.fit_transform(df.Description).toarray()\n",
    "features_train.shape\n",
    "\n",
    "nmf = NMF(n_components=n_components, random_state=42)\n",
    "matrix_train = nmf.fit_transform(features_train)\n",
    "df['pred'] = matrix_train.argmax(axis=1)\n",
    "\n",
    "# assign unique identifier to category for better processing\n",
    "unique_values_train = df['Category'].unique()\n",
    "value_to_int_train = {value: i for i, value in enumerate(unique_values_train)}\n",
    "df['CategoryID'] = df['Category'].map(value_to_int_train)\n",
    "\n",
    "# map predicted value to category based on most frequent label\n",
    "def mapCategories():\n",
    "    cats = {}\n",
    "    for i in range(n_components):\n",
    "        labels = df[df['pred'] == i]['CategoryID']\n",
    "        if len(labels) > 0:\n",
    "            cats[i] = labels.mode().iloc[0]\n",
    "    return cats\n",
    "\n",
    "mappings = mapCategories()\n",
    "df['mapped'] = df['pred'].map(mappings)\n",
    "\n",
    "print(\"\\nReport:\")\n",
    "print(classification_report(df.CategoryID, df['mapped'], target_names=df.Category.unique()))"
   ]
  },
  {
   "cell_type": "code",
   "execution_count": 688,
   "metadata": {},
   "outputs": [
    {
     "data": {
      "text/plain": [
       "Text(92.24999999999999, 0.5, 'True Labels')"
      ]
     },
     "execution_count": 688,
     "metadata": {},
     "output_type": "execute_result"
    },
    {
     "data": {
      "image/png": "[encoded data removed]",
      "text/plain": [
       "<Figure size 1000x800 with 2 Axes>"
      ]
     },
     "metadata": {},
     "output_type": "display_data"
    }
   ],
   "source": [
    "plt.figure(figsize=(10, 8))\n",
    "sns.heatmap(confusion_matrix(df.CategoryID, df['mapped']), annot=True, fmt='d', xticklabels=range(n_components), yticklabels=df.Category.unique())\n",
    "plt.xlabel('Predicted Topics')\n",
    "plt.ylabel('True Labels')"
   ]
  },
  {
   "cell_type": "markdown",
   "metadata": {},
   "source": [
    "As we can see above the NMF unsupervised model returns a lower accuracy of 54% and the confusion matrix looks mixed as well. We will attempt to tune and hyperparameterize to see if we can make this any better. I suspect not as 54% will be as good as it gets with the mixed data."
   ]
  },
  {
   "cell_type": "code",
   "execution_count": 689,
   "metadata": {},
   "outputs": [
    {
     "name": "stdout",
     "output_type": "stream",
     "text": [
      "Tuned Hyperparameter Accuracy:  0.54\n"
     ]
    }
   ],
   "source": [
    "nmf = NMF(init='random',n_components=n_components, random_state=42,solver='mu')\n",
    "matrix = nmf.fit_transform(features_train)\n",
    "df['pred'] = matrix.argmax(axis=1)\n",
    "df['mapped'] = df['pred'].map(mapCategories())\n",
    "nmf_accuracy = accuracy_score(df.CategoryID, df['mapped'])\n",
    "print('Tuned Hyperparameter Accuracy: ', nmf_accuracy)"
   ]
  },
  {
   "cell_type": "markdown",
   "metadata": {},
   "source": [
    "As we can see the accuracy hasn't change hardly at all. This is what I suspected with a accuracy already mixed with the mixed data set. Next we will try a supervised decision tree classifier model to compare to cross validate our results."
   ]
  },
  {
   "cell_type": "code",
   "execution_count": 690,
   "metadata": {},
   "outputs": [
    {
     "name": "stdout",
     "output_type": "stream",
     "text": [
      "Supervised Learning DTC Accuracy: 0.6 (0.1)\n",
      "Supervised Learning DTC Accuracy: 0.6 (0.2)\n",
      "Supervised Learning DTC Accuracy: 0.55 (0.4)\n",
      "Supervised Learning DTC Accuracy: 0.48 (0.5)\n"
     ]
    }
   ],
   "source": [
    "X = df[['mapped']].values\n",
    "y = np.array([int(label) for label in df['CategoryID']])\n",
    "\n",
    "test_sizes = [.1, .2, .4, .5]\n",
    "\n",
    "for i in test_sizes:\n",
    "    X_train, X_test, y_train, y_test = train_test_split(X, y, test_size=i, random_state=42)\n",
    "    clf = DecisionTreeClassifier(max_depth=2)\n",
    "    clf.fit(X_train, y_train)\n",
    "    y_pred = clf.predict(X_test)\n",
    "    accuracy = accuracy_score(y_test, y_pred)\n",
    "    print(f'Supervised Learning DTC Accuracy: {accuracy} ({i})')"
   ]
  },
  {
   "cell_type": "markdown",
   "metadata": {},
   "source": [
    "After running the supervised DTC model it looks like the accuracy went down over several iterations of testing size. It looks like the unsupervised model works best in this case."
   ]
  },
  {
   "cell_type": "markdown",
   "metadata": {},
   "source": [
    "Conclusion\n",
    "\n",
    "The sklearn NMF library may not have worked as well because the data set is limited to the amount of information it provides. The description field varies with the sentence structure and vocabulary. The data would be better modeled if there was a numeric rating instead of a narrative field associated with each restaurant. Vectorizing additional features would provide the model with more context about the restaurants. "
   ]
  }
 ],
 "metadata": {
  "kernelspec": {
   "display_name": "base",
   "language": "python",
   "name": "python3"
  },
  "language_info": {
   "codemirror_mode": {
    "name": "ipython",
    "version": 3
   },
   "file_extension": ".py",
   "mimetype": "text/x-python",
   "name": "python",
   "nbconvert_exporter": "python",
   "pygments_lexer": "ipython3",
   "version": "3.12.4"
  }
 },
 "nbformat": 4,
 "nbformat_minor": 2
}
