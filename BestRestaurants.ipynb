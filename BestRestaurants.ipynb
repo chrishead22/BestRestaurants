{
 "cells": [
  {
   "cell_type": "markdown",
   "metadata": {},
   "source": [
    "<font size=\"4\">  \n",
    "    ML 5632 Final Project: NY Times Best Restaurants of 2024\n",
    "</font> \n",
    "<font size=\"3\">  \n",
    "    <ul>\n",
    "        <li>Dataset is taken from <a href=\"https://www.kaggle.com/datasets/rummagelabs/nytimes-best-restaurants-2024\" target=\"_blank\">Kaggle</a></li>  \n",
    "    </ul>\n",
    "</font> "
   ]
  }
 ],
 "metadata": {
  "language_info": {
   "name": "python"
  }
 },
 "nbformat": 4,
 "nbformat_minor": 2
}
